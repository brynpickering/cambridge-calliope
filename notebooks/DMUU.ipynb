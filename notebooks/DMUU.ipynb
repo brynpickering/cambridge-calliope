{
 "cells": [
  {
   "cell_type": "code",
   "execution_count": null,
   "metadata": {},
   "outputs": [],
   "source": [
    "# Import relevant packages\n",
    "import os\n",
    "\n",
    "import xarray as xr\n",
    "import pandas as pd\n",
    "import numpy as np\n",
    "\n",
    "import calliope\n",
    "from calliope.core import time\n",
    "\n",
    "# internal package which includes functions for scenario reduction\n",
    "import utils\n",
    "\n",
    "os.chdir(os.path.join('..', 'model'))"
   ]
  },
  {
   "cell_type": "markdown",
   "metadata": {},
   "source": [
    "## Mean model"
   ]
  },
  {
   "cell_type": "code",
   "execution_count": null,
   "metadata": {},
   "outputs": [],
   "source": [
    "# Mean model can be built directly, with clustering applied within Calliope\n",
    "mean_model = calliope.Model('model.yaml', override_file='overrides.yaml:dmuu')"
   ]
  },
  {
   "cell_type": "markdown",
   "metadata": {},
   "source": [
    "## Individual scenario"
   ]
  },
  {
   "cell_type": "code",
   "execution_count": null,
   "metadata": {},
   "outputs": [],
   "source": [
    "## Load a scenario, e.g. scenario 1, into the model\n",
    "\n",
    "## Note: this is long-winded as we have stored our CSVs as Gzip files on GitHub (for storage capacity reasons).\n",
    "## If you have uncompressed the CSVs locally then remove the _prep_csv and CSV purging steps\n",
    "\n",
    "def get_scenario_model(scenario, probability=None):\n",
    "    \n",
    "    def _prep_csv(filename):  # unzip GZip & save as CSV\n",
    "        pd.read_csv(\n",
    "            os.path.join('timeseries_data', 'DMUU', 'scenarios', filename), \n",
    "            compression='gzip', header=0, index_col=0, parse_dates=True\n",
    "        ).to_csv(os.path.join('timeseries_data', 'DMUU', 'scenarios', filename.replace('.gz', '.csv')))\n",
    "        print('Prepped CSV:', filename.replace('.gz', ''))\n",
    "        \n",
    "    if isinstance(scenario, list): # we can provide a list of scenarios, for a multi-scenario Calliope model\n",
    "        scenario = {i: 1/len(scenario) for i in scenario}\n",
    "    if isinstance(scenario, dict): # a scenario dict gives `scenario_number:probability` as `key:value` pair\n",
    "        for energy in ['heat', 'electricity']:\n",
    "            for i in scenario.keys():\n",
    "                _prep_csv('demand_{}_{}.gz'.format(energy, i))\n",
    "        calliope.AttrDict({\n",
    "            int(k): {'techs': {'demand_heat': {'constraints': {'resource': 'file=scenarios/demand_heat_{}.csv'.format(k)}},\n",
    "                          'demand_electricity': {'constraints': {'resource': 'file=scenarios/demand_electricity_{}.csv'.format(k)}}},\n",
    "                'model': {'probability': v}}\n",
    "            for k, v in scenario.items()\n",
    "        }).to_yaml(os.path.join('timeseries_data', 'DMUU', 'scenarios.yaml'))\n",
    "        \n",
    "        scenario_model = calliope.Model(\n",
    "            'model.yaml', override_file='overrides.yaml:dmuu', \n",
    "            scenario_file=os.path.join('timeseries_data', 'DMUU', 'scenarios.yaml:'+','.join([str(i) for i in scenario]))\n",
    "        )\n",
    "        \n",
    "    else:\n",
    "        overrides = {}\n",
    "        for energy in ['heat', 'electricity']:\n",
    "            _prep_csv('demand_{}_{}.gz'.format(energy, scenario))\n",
    "\n",
    "            key = 'techs.demand_{}.constraints.resource'.format(energy)\n",
    "            overrides[key] = 'file=scenarios/demand_{}_{}.csv'.format(energy, scenario)\n",
    "\n",
    "        scenario_model = calliope.Model('model.yaml', override_file='overrides.yaml:dmuu', override_dict=overrides)\n",
    "        \n",
    "    # Purge CSVs following preparing the scenario model:\n",
    "    print('Purging CSVs')\n",
    "    for file in os.listdir(os.path.join('timeseries_data', 'DMUU', 'scenarios')):\n",
    "        if file.endswith(\".csv\"):\n",
    "            os.remove(os.path.join('timeseries_data', 'DMUU', 'scenarios', file))\n",
    "            \n",
    "    return scenario_model\n",
    "\n",
    "scenario_model = get_scenario_model(scenario=1)"
   ]
  },
  {
   "cell_type": "markdown",
   "metadata": {},
   "source": [
    "## Scenario reduction"
   ]
  },
  {
   "cell_type": "code",
   "execution_count": null,
   "metadata": {},
   "outputs": [],
   "source": [
    "# To undertake scenario reduction, run all scenarios independently, then load them into one xarray Dataset:\n",
    "all_scenarios = xr.concat(\n",
    "    [xr.open_dataset('path_to_scenario_model_{}'.format(i) for i in range(500))], \n",
    "    dim=pd.Index(data=[i for i in range(500)], name='scenarios'),\n",
    "    data_vars='different'\n",
    ")\n",
    "\n",
    "# Then run scenario reduction\n",
    "reduced_scenarios = utils.get_reduced_scenarios(all_scenarios.cost.values, 16)\n",
    "reduced_scenarios_df = utils.get_redistributed_probabilities(all_scenarios.cost.values, reduced_scenarios)"
   ]
  },
  {
   "cell_type": "markdown",
   "metadata": {},
   "source": [
    "## Scenario optimisation"
   ]
  },
  {
   "cell_type": "code",
   "execution_count": null,
   "metadata": {},
   "outputs": [],
   "source": [
    "# Create multi-scenario model, for scenario optimisation\n",
    "scenarios = pd.read_csv(os.path.join('timeseries_data', 'DMUU', 'reduced_scenarios.csv'), header=0, index_col=0)\n",
    "scenario_model = get_scenario_model({int(i): scenarios.loc[i].probability for i in scenarios.reduced_scenario.unique()})\n",
    "\n",
    "# Add SO-related attributes\n",
    "scenario_model._model_data.attrs['run.mode'] = 'scenario_plan'\n",
    "scenario_model._model_data.attrs['run.alpha'] = '1'\n",
    "scenario_model._model_data.attrs['run.beta'] = '0'\n",
    "\n",
    "# Edit solver, if necessary\n",
    "#scenario_model._model_data.attrs['run.solver'] = ''\n",
    "\n",
    "# Recommended to save this to file, for running on a remote cluster:\n",
    "#scenario_model.to_netcdf('scenario_model_DMUU.nc')\n",
    "\n",
    "# If you want to run right here:\n",
    "#scenario_model.run()"
   ]
  }
 ],
 "metadata": {
  "kernelspec": {
   "display_name": "Python [conda env:calliope_DMUU]",
   "language": "python",
   "name": "conda-env-calliope_DMUU-py"
  },
  "language_info": {
   "codemirror_mode": {
    "name": "ipython",
    "version": 3
   },
   "file_extension": ".py",
   "mimetype": "text/x-python",
   "name": "python",
   "nbconvert_exporter": "python",
   "pygments_lexer": "ipython3",
   "version": "3.6.6"
  }
 },
 "nbformat": 4,
 "nbformat_minor": 2
}
